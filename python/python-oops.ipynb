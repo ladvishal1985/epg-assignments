{
 "cells": [
  {
   "cell_type": "code",
   "execution_count": 3,
   "id": "1cdac8c5-0b22-42cf-8067-ce362eba7a0a",
   "metadata": {},
   "outputs": [
    {
     "name": "stdin",
     "output_type": "stream",
     "text": [
      "Enter Employee ID:  332432\n",
      "Enter Gender:  M\n",
      "Enter Salary:  40000\n",
      "Enter Performance Rating (Out of 5):  3\n",
      "Enter Date of Joining (YYYY-MM-DD):  2018-01-01\n",
      "Enter Employee ID:  43242\n",
      "Enter Gender:  F\n",
      "Enter Salary:  35000\n",
      "Enter Performance Rating (Out of 5):  4\n",
      "Enter Date of Joining (YYYY-MM-DD):  2018-12-12\n",
      "Enter Employee ID:  243234234\n",
      "Enter Gender:  M\n",
      "Enter Salary:  50000\n",
      "Enter Performance Rating (Out of 5):  2\n",
      "Enter Date of Joining (YYYY-MM-DD):  2018-01-01\n",
      "Enter Employee ID:  34342\n",
      "Enter Gender:  M\n",
      "Enter Salary:  3432432\n",
      "Enter Performance Rating (Out of 5):  3\n",
      "Enter Date of Joining (YYYY-MM-DD):  2018-01-01\n",
      "Enter Employee ID:  23324\n",
      "Enter Gender:  F\n",
      "Enter Salary:  40000\n",
      "Enter Performance Rating (Out of 5):  5\n",
      "Enter Date of Joining (YYYY-MM-DD):  2018-01-01\n"
     ]
    },
    {
     "name": "stdout",
     "output_type": "stream",
     "text": [
      "Employee ID: 23324\n",
      "Gender: F\n",
      "Salary: 40000\n",
      "Performance Rating: 5\n",
      "Date of Joining: 2018-01-01\n",
      "\n",
      "Employee ID: 43242\n",
      "Gender: F\n",
      "Salary: 35000\n",
      "Performance Rating: 4\n",
      "Date of Joining: 2018-12-12\n",
      "\n",
      "Employee ID: 332432\n",
      "Gender: M\n",
      "Salary: 40000\n",
      "Performance Rating: 3\n",
      "Date of Joining: 2018-01-01\n",
      "\n"
     ]
    }
   ],
   "source": [
    "# Q1. Write a Python program to demonstrate multiple inheritance.\n",
    "from datetime import datetime\n",
    "\n",
    "class Employee:\n",
    "    def __init__(self):\n",
    "        self.EmployeeID = None\n",
    "        self.Gender = None\n",
    "        self.Salary = None\n",
    "        self.PerformanceRating = None\n",
    "\n",
    "    def get(self):\n",
    "        self.EmployeeID = input(\"Enter Employee ID: \")\n",
    "        self.Gender = input(\"Enter Gender: \")\n",
    "        self.Salary = int(input(\"Enter Salary: \"))\n",
    "        self.PerformanceRating = int(input(\"Enter Performance Rating (Out of 5): \"))\n",
    "\n",
    "class JoiningDetail:\n",
    "    def __init__(self):\n",
    "        self.DateOfJoining = None\n",
    "\n",
    "    def getDoJ(self):\n",
    "        date_str = input(\"Enter Date of Joining (YYYY-MM-DD): \")\n",
    "        self.DateOfJoining = datetime.strptime(date_str, \"%Y-%m-%d\")\n",
    "\n",
    "class Information(Employee, JoiningDetail):\n",
    "    def __init__(self):\n",
    "        Employee.__init__(self)\n",
    "        JoiningDetail.__init__(self)\n",
    "\n",
    "    def readData(self, employees):\n",
    "        top_employees = sorted(employees, key=lambda x: (-x.PerformanceRating, x.DateOfJoining))[:3]\n",
    "        \n",
    "        # Display the details of top 3 employees\n",
    "        for emp in top_employees:\n",
    "            print(f\"Employee ID: {emp.EmployeeID}\")\n",
    "            print(f\"Gender: {emp.Gender}\")\n",
    "            print(f\"Salary: {emp.Salary}\")\n",
    "            print(f\"Performance Rating: {emp.PerformanceRating}\")\n",
    "            print(f\"Date of Joining: {emp.DateOfJoining.strftime('%Y-%m-%d')}\")\n",
    "            print()\n",
    "\n",
    "employees = []\n",
    "for _ in range(5):\n",
    "    info = Information()\n",
    "    info.get()\n",
    "    info.getDoJ()\n",
    "    employees.append(info)\n",
    "\n",
    "info_instance = Information()\n",
    "info_instance.readData(employees)\n"
   ]
  },
  {
   "cell_type": "code",
   "execution_count": 4,
   "id": "a1a18722-6e15-4296-a942-e3b8c7b546b5",
   "metadata": {},
   "outputs": [
    {
     "name": "stdout",
     "output_type": "stream",
     "text": [
      "The Total Fare for all vehicles is: 800\n"
     ]
    }
   ],
   "source": [
    "# Q.2 Write a Python program to demonstrate Polymorphism.\n",
    "class Vehicle:\n",
    "    def Fare(self, fare):\n",
    "        return fare\n",
    "\n",
    "Bus = Vehicle()\n",
    "Car = Vehicle()\n",
    "Train = Vehicle()\n",
    "Truck = Vehicle()\n",
    "Ship = Vehicle()\n",
    "\n",
    "# Call the Fare function for each vehicle type and store the fares\n",
    "bus_fare = Bus.Fare(100)\n",
    "car_fare = Car.Fare(50)\n",
    "train_fare = Train.Fare(150)\n",
    "truck_fare = Truck.Fare(200)\n",
    "ship_fare = Ship.Fare(300)\n",
    "\n",
    "TotalFare = bus_fare + car_fare + train_fare + truck_fare + ship_fare\n",
    "print(f\"The Total Fare for all vehicles is: {TotalFare}\")"
   ]
  },
  {
   "cell_type": "code",
   "execution_count": 6,
   "id": "15a0ddc2-9348-4cad-a777-68cb297f1bc9",
   "metadata": {},
   "outputs": [
    {
     "name": "stdout",
     "output_type": "stream",
     "text": [
      "('Dravid', 310)\n"
     ]
    }
   ],
   "source": [
    "def Max_Score(M):\n",
    "    total_scores = {}\n",
    "    for test in M:\n",
    "        for player, score in M[test].items():\n",
    "            # Add the score to the player's total score\n",
    "            if player in total_scores:\n",
    "                total_scores[player] += score\n",
    "            else:\n",
    "                total_scores[player] = score\n",
    "\n",
    "    # Find the player with the highest total score\n",
    "    top_player = max(total_scores, key=total_scores.get)\n",
    "    top_score = total_scores[top_player]\n",
    "\n",
    "    return (top_player, top_score)\n",
    "\n",
    "M = {\n",
    "    'test1': {'Dhoni': 56, 'Balaji': 85, 'Dravid' : 205},\n",
    "    'test2': {'Dhoni': 87, 'Balaji': 200, 'Dravid' : 105}\n",
    "}\n",
    "\n",
    "print(Max_Score(M))"
   ]
  },
  {
   "cell_type": "code",
   "execution_count": 17,
   "id": "9ec1ed8d-469d-4c94-a8aa-68ac952346ef",
   "metadata": {},
   "outputs": [
    {
     "name": "stdout",
     "output_type": "stream",
     "text": [
      "[1, 2, 3, 4, 5, 6, 7, 8, 9, 10, 11, 12, 13, 1, 2, 3, 4, 5, 6, 7, 8, 9, 10, 11, 12, 13, 1, 2, 3, 4, 5, 6, 7, 8, 9, 10, 11, 12, 13, 1, 2, 3, 4, 5, 6, 7, 8, 9, 10, 11, 12, 13]\n",
      "[12, 2, 11, 1, 9, 9, 2, 8]\n",
      "The first card is: 12\n"
     ]
    },
    {
     "name": "stdin",
     "output_type": "stream",
     "text": [
      "Will the next card be higher or lower? (h/l):  l\n"
     ]
    },
    {
     "name": "stdout",
     "output_type": "stream",
     "text": [
      "Correct! The next card was 2.\n"
     ]
    },
    {
     "name": "stdin",
     "output_type": "stream",
     "text": [
      "Will the next card be higher or lower? (h/l):  h\n"
     ]
    },
    {
     "name": "stdout",
     "output_type": "stream",
     "text": [
      "Correct! The next card was 11.\n"
     ]
    },
    {
     "name": "stdin",
     "output_type": "stream",
     "text": [
      "Will the next card be higher or lower? (h/l):  l\n"
     ]
    },
    {
     "name": "stdout",
     "output_type": "stream",
     "text": [
      "Correct! The next card was 1.\n"
     ]
    },
    {
     "name": "stdin",
     "output_type": "stream",
     "text": [
      "Will the next card be higher or lower? (h/l):  h\n"
     ]
    },
    {
     "name": "stdout",
     "output_type": "stream",
     "text": [
      "Correct! The next card was 9.\n"
     ]
    },
    {
     "name": "stdin",
     "output_type": "stream",
     "text": [
      "Will the next card be higher or lower? (h/l):  l\n"
     ]
    },
    {
     "name": "stdout",
     "output_type": "stream",
     "text": [
      "Incorrect. The next card was 9.\n"
     ]
    },
    {
     "name": "stdin",
     "output_type": "stream",
     "text": [
      "Will the next card be higher or lower? (h/l):  l\n"
     ]
    },
    {
     "name": "stdout",
     "output_type": "stream",
     "text": [
      "Correct! The next card was 2.\n"
     ]
    },
    {
     "name": "stdin",
     "output_type": "stream",
     "text": [
      "Will the next card be higher or lower? (h/l):  h\n"
     ]
    },
    {
     "name": "stdout",
     "output_type": "stream",
     "text": [
      "Correct! The next card was 8.\n",
      "Game over! Your final score is: 105\n"
     ]
    }
   ],
   "source": [
    "# Q4. Create a simple Card game simulation\n",
    "import random\n",
    "deck = list(range(1, 14)) * 4 \n",
    "print(deck)\n",
    "random.shuffle(deck)\n",
    "# Get first 8 card from a shuffled deck\n",
    "selected_cards = deck[:8]\n",
    "print(selected_cards)\n",
    "\n",
    "score = 0\n",
    "current_card = selected_cards[0]\n",
    "print(f\"The first card is: {current_card}\")\n",
    "for next_card in selected_cards[1:]:\n",
    "    # Ask the player to predict higher or lower\n",
    "    prediction = input(\"Will the next card be higher or lower? (h/l): \").strip().lower()\n",
    "\n",
    "    if (prediction == 'h' and next_card > current_card) or (prediction == 'l' and next_card < current_card):\n",
    "        print(f\"Correct! The next card was {next_card}.\")\n",
    "        score += 20\n",
    "    else:\n",
    "        print(f\"Incorrect. The next card was {next_card}.\")\n",
    "        score -= 15\n",
    "    \n",
    "    current_card = next_card\n",
    "\n",
    "print(f\"Game over! Your final score is: {score}\")"
   ]
  },
  {
   "cell_type": "code",
   "execution_count": null,
   "id": "a590ced0-dcdc-4295-8583-8ec3c4bfa89c",
   "metadata": {},
   "outputs": [],
   "source": [
    "# Create an empty dictionary called Car_0 . Then fill the dictionary with Keys : color , speed, X_position and Y_position.\n",
    "# car_0 = {'x_position': 10, 'y_position': 72, 'speed': 'medium'} .\n",
    "# Car_0 = {}\n",
    "\n",
    "# Fill the dictionary with keys: color, speed, X_position, and Y_position\n",
    "Car_0['color'] = 'red'\n",
    "Car_0['speed'] = 'medium'\n",
    "Car_0['x_position'] = 10\n",
    "Car_0['y_position'] = 72\n",
    "\n",
    "# Update the X_position based on the speed\n",
    "if Car_0['speed'] == 'slow':\n",
    "    Car_0['x_position'] += 2\n",
    "elif Car_0['speed'] == 'medium':\n",
    "    Car_0['x_position'] += 9\n",
    "elif Car_0['speed'] == 'fast':\n",
    "    Car_0['x_position'] += 22\n"
   ]
  },
  {
   "cell_type": "code",
   "execution_count": 18,
   "id": "5141444d-c448-4c7e-806b-3588b202b564",
   "metadata": {},
   "outputs": [],
   "source": [
    "# Q6. Show a basic implementation of abstraction in python using the abstract classes.\n",
    "\n",
    "from abc import ABC, abstractmethod\n",
    "\n",
    "class Animal(ABC):\n",
    "    @abstractmethod\n",
    "    def sound(self):\n",
    "        pass\n",
    "\n",
    "    @abstractmethod\n",
    "    def move(self):\n",
    "        pass\n",
    "\n",
    "class Dog(Animal):\n",
    "    def sound(self):\n",
    "        return \"Bark\"\n",
    "\n",
    "    def move(self):\n",
    "        return \"Run\"\n",
    "\n",
    "class Bird(Animal):\n",
    "    def sound(self):\n",
    "        return \"Chirp\"\n",
    "\n",
    "    def move(self):\n",
    "        return \"Fly\"\n"
   ]
  },
  {
   "cell_type": "code",
   "execution_count": 24,
   "id": "16580f2e-656e-4870-955f-92eb68c5b58b",
   "metadata": {},
   "outputs": [
    {
     "name": "stdout",
     "output_type": "stream",
     "text": [
      "Buddy (Animal): Bark\n",
      "Whiskers (Animal): Meow\n",
      "Dog\n",
      "Cat\n"
     ]
    }
   ],
   "source": [
    "# Q7.Create a program in python to demonstrate Polymorphism.\n",
    "# 1. Make use of private and protected members using python name mangling techniques.\n",
    "from abc import ABC, abstractmethod\n",
    "class Animal:\n",
    "    def __init__(self, name):\n",
    "        self.name = name #protected\n",
    "        self.__type = \"Animal\" #private\n",
    "        \n",
    "   \n",
    "    @abstractmethod\n",
    "    def sound(self):\n",
    "        pass\n",
    "\n",
    "    def get_type(self):\n",
    "        return self.__type\n",
    "    \n",
    "    def get_type(self):\n",
    "        return self.__type\n",
    "\n",
    "class Dog(Animal):\n",
    "    def __init__(self, name):\n",
    "        super().__init__(name)\n",
    "        self.__type = \"Dog\"\n",
    "    def sound(self):\n",
    "        return \"Bark\"\n",
    "\n",
    "class Cat(Animal):\n",
    "    def __init__(self, name):\n",
    "        super().__init__(name)\n",
    "        self.__type = \"Cat\"  # Private member with name mangling\n",
    "\n",
    "    def sound(self):\n",
    "        return \"Meow\"\n",
    "\n",
    "dog = Dog(\"Buddy\")\n",
    "cat = Cat(\"Whiskers\")\n",
    "animals = [dog, cat]\n",
    "for animal in animals:\n",
    "    print(f\"{animal.name} ({animal.get_type()}): {animal.sound()}\")\n",
    "\n",
    "print(dog._Dog__type)  # Output: Dog\n",
    "print(cat._Cat__type)  # Output: Cat"
   ]
  },
  {
   "cell_type": "code",
   "execution_count": 25,
   "id": "962333fb-f970-4abb-a8c4-b7311a9e484e",
   "metadata": {},
   "outputs": [
    {
     "name": "stdout",
     "output_type": "stream",
     "text": [
      "[1, 4, 9, 16, 25, 36, 49, 64, 81, 100, 121, 144, 169, 196, 225, 256, 289, 324, 361, 400, 441, 484, 529, 576, 625, 676, 729, 784, 841, 900, 961, 1024, 1089, 1156, 1225, 1296, 1369, 1444, 1521, 1600, 1681, 1764, 1849, 1936, 2025, 2116, 2209, 2304, 2401, 2500]\n"
     ]
    }
   ],
   "source": [
    "# Q8. Given a list of 50 natural numbers from 1-50. Create a function that will take every element from the list and return the square of each element.\n",
    "# Use the python map and fi`lter methods to implement the function on the given list.\n",
    "numbers = list(range(1, 51))\n",
    "def square(x):\n",
    "    return x * x\n",
    "squared_numbers = list(map(square, numbers))\n",
    "print(squared_numbers)"
   ]
  },
  {
   "cell_type": "code",
   "execution_count": 27,
   "id": "816330cf-1aaf-4199-8101-d2f94e817967",
   "metadata": {},
   "outputs": [
    {
     "name": "stdout",
     "output_type": "stream",
     "text": [
      "The angles form a valid triangle.\n",
      "The angles form a valid triangle.\n",
      "The triangle is an acute triangle.\n",
      "The angles form a valid triangle.\n",
      "The triangle is not an obtuse triangle.\n"
     ]
    }
   ],
   "source": [
    "\n",
    "\n",
    "class Triangle:\n",
    "    # Q10. Create a class variable named number_of_sides and set it equal to 3.\n",
    "    number_of_sides = 3\n",
    "    # Q9. Create a class, Triangle. Its init() method should take self, angle1, angle2, and angle3 as arguments.\n",
    "    def __init__(self, angle1, angle2, angle3):\n",
    "        self.angle1 = angle1\n",
    "        self.angle2 = angle2\n",
    "        self.angle3 = angle3\n",
    "\n",
    "    #Q11. Create a method named check_angles. The sum of a triangle's three angles should return\n",
    "    #     True if the sum is equal to 180, and False otherwise. The method should print whether the\n",
    "    #     angles belong to a triangle or not.\n",
    "    def check_angles(self):\n",
    "        if self.angle1 + self.angle2 + self.angle3 == 180:\n",
    "            print(\"The angles form a valid triangle.\")\n",
    "            return True\n",
    "        else:\n",
    "            print(\"The angles do not form a valid triangle.\")\n",
    "            return False\n",
    "    # Q11.1 Write methods to verify if the triangle is an acute triangle or obtuse triangle.\n",
    "    def is_acute(self):\n",
    "        if self.check_angles():\n",
    "            if self.angle1 < 90 and self.angle2 < 90 and self.angle3 < 90:\n",
    "                print(\"The triangle is an acute triangle.\")\n",
    "                return True\n",
    "            else:\n",
    "                print(\"The triangle is not an acute triangle.\")\n",
    "                return False\n",
    "        else:\n",
    "            return False\n",
    "    \n",
    "    def is_obtuse(self):\n",
    "        if self.check_angles():\n",
    "            if self.angle1 > 90 or self.angle2 > 90 or self.angle3 > 90:\n",
    "                print(\"The triangle is an obtuse triangle.\")\n",
    "                return True\n",
    "            else:\n",
    "                print(\"The triangle is not an obtuse triangle.\")\n",
    "                return False\n",
    "        else:\n",
    "            return False\n",
    "\n",
    "# 11.2 Create an instance of the triangle class and call all the defined methods.\n",
    "triangle = Triangle(60, 60, 60)\n",
    "triangle.check_angles()  # Output: The angles form a valid triangle.\n",
    "triangle.is_acute()      # Output: The triangle is an acute triangle.\n",
    "triangle.is_obtuse()     # Output: The triangle is not an obtuse triangle.\n",
    "\n",
    "\n",
    "# 11.3 Create three child classes of triangle class - isosceles_triangle, right_triangle and\n",
    "# 11.4 Define methods which check for their properties.\n",
    "# equilateral_triangle.\n",
    "class IsoscelesTriangle(Triangle):\n",
    "    def __init__(self, angle1, angle2, angle3):\n",
    "        super().__init__(angle1, angle2, angle3)\n",
    "        if not (angle1 == angle2 or angle2 == angle3 or angle1 == angle3):\n",
    "            raise ValueError(\"For an isosceles triangle, at least two angles must be equal.\")\n",
    "    \n",
    "    def is_isosceles(self):\n",
    "        if self.angle1 == self.angle2 or self.angle2 == self.angle3 or self.angle1 == self.angle3:\n",
    "            print(\"The triangle is an isosceles triangle.\")\n",
    "            return True\n",
    "        else:\n",
    "            print(\"The triangle is not an isosceles triangle.\")\n",
    "            return False\n",
    "\n",
    "class RightTriangle(Triangle):\n",
    "    def __init__(self, angle1, angle2, angle3):\n",
    "        super().__init__(angle1, angle2, angle3)\n",
    "        if not (angle1 == 90 or angle2 == 90 or angle3 == 90):\n",
    "            raise ValueError(\"For a right triangle, one angle must be 90 degrees.\")\n",
    "    \n",
    "    def is_right(self):\n",
    "        if self.angle1 == 90 or self.angle2 == 90 or self.angle3 == 90:\n",
    "            print(\"The triangle is a right triangle.\")\n",
    "            return True\n",
    "        else:\n",
    "            print(\"The triangle is not a right triangle.\")\n",
    "            return False\n",
    "\n",
    "class EquilateralTriangle(Triangle):\n",
    "    def __init__(self, angle1, angle2, angle3):\n",
    "        super().__init__(angle1, angle2, angle3)\n",
    "        if not (angle1 == angle2 == angle3 == 60):\n",
    "            raise ValueError(\"For an equilateral triangle, all angles must be 60 degrees.\")\n",
    "    \n",
    "    def is_equilateral(self):\n",
    "        if self.angle1 == 60 and self.angle2 == 60 and self.angle3 == 60:\n",
    "            print(\"The triangle is an equilateral triangle.\")\n",
    "            return True\n",
    "        else:\n",
    "            print(\"The triangle is not an equilateral triangle.\")\n",
    "            return False\n",
    "# Q12. Create a class isosceles_right_triangle which inherits from isosceles_triangle and right_triangle.\n",
    "# Q12.1 Define methods which check for their properties.\n",
    "class IsoscelesRightTriangle(IsoscelesTriangle, RightTriangle):\n",
    "    def __init__(self, angle1, angle2, angle3):\n",
    "        super().__init__(angle1, angle2, angle3)\n",
    "        if not (angle1 == angle2 or angle2 == angle3 or angle1 == angle3) or not (angle1 == 90 or angle2 == 90 or angle3 == 90):\n",
    "            raise ValueError(\"For an isosceles right triangle, at least two angles must be equal and one angle must be 90 degrees.\")\n",
    "    \n",
    "    def is_isosceles_right(self):\n",
    "        if self.is_isosceles() and self.is_right():\n",
    "            print(\"The triangle is an isosceles right triangle.\")\n",
    "            return True\n",
    "        else:\n",
    "            print(\"The triangle is not an isosceles right triangle.\")\n",
    "            return False"
   ]
  },
  {
   "cell_type": "code",
   "execution_count": null,
   "id": "ee0a45d4-4392-41cf-b304-ceb469bf2725",
   "metadata": {},
   "outputs": [],
   "source": [
    "\n"
   ]
  }
 ],
 "metadata": {
  "kernelspec": {
   "display_name": "Python 3 (ipykernel)",
   "language": "python",
   "name": "python3"
  },
  "language_info": {
   "codemirror_mode": {
    "name": "ipython",
    "version": 3
   },
   "file_extension": ".py",
   "mimetype": "text/x-python",
   "name": "python",
   "nbconvert_exporter": "python",
   "pygments_lexer": "ipython3",
   "version": "3.12.7"
  }
 },
 "nbformat": 4,
 "nbformat_minor": 5
}
