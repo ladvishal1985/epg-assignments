{
 "cells": [
  {
   "cell_type": "code",
   "execution_count": 1,
   "id": "20066b1e-bdaf-4093-8370-e48cd8250d88",
   "metadata": {},
   "outputs": [
    {
     "name": "stdout",
     "output_type": "stream",
     "text": [
      "The value of A is: 162.8894626777442\n"
     ]
    }
   ],
   "source": [
    "# Q1. Using Python script as a calculator\n",
    "# Create the variables n, r, p and assign them values 10, 5, and 100 respectively. Then evaluate the following expression in the Python console.\n",
    "# 𝐴 = 𝑝 (1 + 𝑟/ 100)n\n",
    "# Assign values to variables\n",
    "n = 10\n",
    "r = 5\n",
    "p = 100\n",
    "\n",
    "# Evaluate the expression A = p * (1 + r/100)^n\n",
    "A = p * (1 + r/100)**n\n",
    "\n",
    "# Print the result\n",
    "print(f\"The value of A is: {A}\")"
   ]
  },
  {
   "cell_type": "code",
   "execution_count": 2,
   "id": "323894a3-c54f-4e89-bf56-f44f290bd47f",
   "metadata": {},
   "outputs": [
    {
     "name": "stdout",
     "output_type": "stream",
     "text": [
      "There are 10 students in the class, with 20 who play at least one sport.\n"
     ]
    }
   ],
   "source": [
    "# Q2. In a given string format operation, how will you print the given string.\n",
    "# A = 10\n",
    "# B = 20\n",
    "# Str = \"There are {} students in the class, with {} who play at least one sport.\"\n",
    "a = 10\n",
    "b = 20\n",
    "print(f\"There are {10} students in the class, with {20} who play at least one sport.\")\n",
    "# Ans - D. None of the above"
   ]
  },
  {
   "cell_type": "code",
   "execution_count": 3,
   "id": "9fa60850-30e1-42e1-9338-d48ea1d4a70c",
   "metadata": {},
   "outputs": [
    {
     "name": "stdout",
     "output_type": "stream",
     "text": [
      "It goes without saying, \"Time is Money\", and none can deny it.\n"
     ]
    }
   ],
   "source": [
    "# Q3. In a given sample string, How do you print a double quoted string in between a regular string using the escape character?\n",
    "# Sample output = It goes without saying, “Time is Money”, and none can deny it.\n",
    "print(\"It goes without saying, \\\"Time is Money\\\", and none can deny it.\")\n",
    "# Ans - A. \"It goes without saying, \\\"Time is Money\\\", and none can deny it.\""
   ]
  },
  {
   "cell_type": "code",
   "execution_count": 4,
   "id": "ccd77561-f001-4313-ab6b-3a27acb217e8",
   "metadata": {},
   "outputs": [
    {
     "data": {
      "text/plain": [
       "3"
      ]
     },
     "execution_count": 4,
     "metadata": {},
     "output_type": "execute_result"
    }
   ],
   "source": [
    "# Q4. What will be the output of the following code?\n",
    "# x = lambda a,b: a//b\n",
    "# x(10,3)\n",
    "x = lambda a,b: a//b\n",
    "x(10,3)\n",
    "\n",
    "# Ans. - B. 3"
   ]
  },
  {
   "cell_type": "code",
   "execution_count": 5,
   "id": "b2f3b460-568f-49de-9ee5-b6b76ff41f4f",
   "metadata": {},
   "outputs": [
    {
     "name": "stdout",
     "output_type": "stream",
     "text": [
      "Greater\n"
     ]
    }
   ],
   "source": [
    "# Q5. What will be the output of the following code?\n",
    "# A = 10\n",
    "# B = 12\n",
    "# print(\"Smaller\") if A == B else print(\"Greater\") if A < B else print(\"True\")\n",
    "A = 10\n",
    "B = 12\n",
    "print(\"Smaller\") if A == B else print(\"Greater\") if A < B else print(\"True\")\n",
    "# Ans. - C. Greater"
   ]
  },
  {
   "cell_type": "code",
   "execution_count": 7,
   "id": "921f6f3b-6aef-48bb-8f6d-88ebaeb5b75b",
   "metadata": {},
   "outputs": [
    {
     "name": "stdout",
     "output_type": "stream",
     "text": [
      "[2, 7, 3, 5, 4, 6]\n"
     ]
    },
    {
     "ename": "NameError",
     "evalue": "name 'numpy' is not defined",
     "output_type": "error",
     "traceback": [
      "\u001b[1;31m---------------------------------------------------------------------------\u001b[0m",
      "\u001b[1;31mNameError\u001b[0m                                 Traceback (most recent call last)",
      "Cell \u001b[1;32mIn[7], line 6\u001b[0m\n\u001b[0;32m      4\u001b[0m my_list1 \u001b[38;5;241m=\u001b[39m [\u001b[38;5;241m2\u001b[39m, \u001b[38;5;241m7\u001b[39m, \u001b[38;5;241m3\u001b[39m, \u001b[38;5;241m5\u001b[39m, \u001b[38;5;241m4\u001b[39m, \u001b[38;5;241m6\u001b[39m]\n\u001b[0;32m      5\u001b[0m \u001b[38;5;28mprint\u001b[39m(my_list1)\n\u001b[1;32m----> 6\u001b[0m arr_1\u001b[38;5;241m=\u001b[39mnumpy\u001b[38;5;241m.\u001b[39marray(my_list, dtype\u001b[38;5;241m=\u001b[39m\u001b[38;5;28mint\u001b[39m)\n\u001b[0;32m      7\u001b[0m \u001b[38;5;28mprint\u001b[39m(arr_1)\n",
      "\u001b[1;31mNameError\u001b[0m: name 'numpy' is not defined"
     ]
    }
   ],
   "source": [
    "# Q6. What will be the output of the following code?\n",
    "import os\n",
    "import numpy as np\n",
    "my_list1 = [2, 7, 3, 5, 4, 6]\n",
    "print(my_list1)\n",
    "arr_1=numpy.array(my_list, dtype=int)\n",
    "print(arr_1)\n",
    "# Ans. - A. [2 7 3 5 4 6]"
   ]
  },
  {
   "cell_type": "code",
   "execution_count": 8,
   "id": "05cc050f-c73b-49da-a4ec-75add550a8c7",
   "metadata": {},
   "outputs": [
    {
     "name": "stdout",
     "output_type": "stream",
     "text": [
      "Learn\n"
     ]
    }
   ],
   "source": [
    "# Q7. Create a string called ‘string’ with the value as “Machine Learning”. Which code(s)\n",
    "# is/are appropriate to slice the substring “Learn”?\n",
    "string = \"Machine Learning\"\n",
    "substring = string[slice(8, 13, 1)]\n",
    "print(substring)\n",
    "# Ans. D. string[slice(8,13,1)]"
   ]
  },
  {
   "cell_type": "code",
   "execution_count": 9,
   "id": "af6dabb6-53f6-429d-be40-a115cd18a146",
   "metadata": {},
   "outputs": [
    {
     "name": "stdout",
     "output_type": "stream",
     "text": [
      "Sequence: [10, 14, 18, 22]\n",
      "Index of value 18: 2\n"
     ]
    }
   ],
   "source": [
    "# Q8. Create a sequence of numbers from 10 to 25 and increment by 4. What is the index of the value 18?  \n",
    "\n",
    "sequence = list(range(10, 26, 4))\n",
    "index_of_18 = sequence.index(18)\n",
    "print(f\"Sequence: {sequence}\")\n",
    "print(f\"Index of value 18: {index_of_18}\")\n",
    "# Ans. - B. 2"
   ]
  },
  {
   "cell_type": "code",
   "execution_count": 10,
   "id": "7abb249f-f967-4bbf-b95a-c65d4616c05d",
   "metadata": {},
   "outputs": [
    {
     "name": "stdout",
     "output_type": "stream",
     "text": [
      "625 625\n"
     ]
    }
   ],
   "source": [
    "# Q9. Which of the following is true with respect to the below codes?\n",
    "num1 = 5**4\n",
    "num2 = pow(5,4)\n",
    "print(num1, num2)\n",
    "# Ans. - A. num1 = num2"
   ]
  },
  {
   "cell_type": "code",
   "execution_count": null,
   "id": "aec58d68-0509-472a-8f32-2bf2a85a4661",
   "metadata": {},
   "outputs": [],
   "source": [
    "# Q10. A Python NameError exception is raised when?\n",
    "# Ans. A. Trying to access a variable which has not been defined"
   ]
  },
  {
   "cell_type": "code",
   "execution_count": 12,
   "id": "781dd67e-8afc-4822-8355-eb607318dd00",
   "metadata": {},
   "outputs": [],
   "source": [
    "# Q11. What type of exception will be raised for the code given below?\n",
    "# x = \"string\"\n",
    "# int(x)\n",
    "# Ans. ValueError"
   ]
  },
  {
   "cell_type": "code",
   "execution_count": null,
   "id": "561f30fc-97cf-45c4-b714-ab1fc9e76c8f",
   "metadata": {},
   "outputs": [],
   "source": [
    "# Q12. A FileNotFoundError exception is raised by operating system errors when: -\n",
    "# a. Trying to create a file or directory which already exists\n",
    "# b. A file or directory is requested but does not exist in the working directory\n",
    "# c. Trying to run an operation without the adequate access rights\n",
    "# d. A directory operation, os.listdir() is requested on something which is not a directory\n",
    "# Ans. - B. A file or directory is requested but does not exist in the working directory"
   ]
  },
  {
   "cell_type": "code",
   "execution_count": 13,
   "id": "27b5f1bc-7bab-4a0c-872b-37fc0a268a8a",
   "metadata": {},
   "outputs": [
    {
     "name": "stdout",
     "output_type": "stream",
     "text": [
      "<class 'str'>\n"
     ]
    }
   ],
   "source": [
    "# Q13. Consider a variable Z. The value of Z is \"ID-5632\". Data type of Z is: -\n",
    "Z = \"ID-5632\"\n",
    "print(type(Z))\n",
    "# Ans. It should be string. None of the given options seems to be appropriate based on the information provided."
   ]
  },
  {
   "cell_type": "code",
   "execution_count": null,
   "id": "c682613b-b9f3-4d25-bcba-08bc095b4f5d",
   "metadata": {},
   "outputs": [],
   "source": [
    "# Q14.Which of the following variable(s) are character data type?\n",
    "# Ans. D. All of the above\n",
    "# In Python, all the given variables are of the string data type (str). Python does not have a separate character data type. \n"
   ]
  },
  {
   "cell_type": "code",
   "execution_count": null,
   "id": "90ada081-863c-4016-9f7c-2a636a6d9a5a",
   "metadata": {},
   "outputs": [],
   "source": [
    "# Q15.Choose the symbol/s that does not have the ability to convert any values to string?\n",
    "\n",
    "# Ans. D. # is used for comments in Python and does not perform any conversion of values to strings."
   ]
  },
  {
   "cell_type": "code",
   "execution_count": 16,
   "id": "d721ecf8-d164-48fb-b3d6-1b6f07e3262d",
   "metadata": {},
   "outputs": [
    {
     "name": "stdout",
     "output_type": "stream",
     "text": [
      "{'India': 'Delhi', 'China': 'Beijing', 'Japan': 'Tokyo', 'Qatar': 'Doha', 'France': 'Marseilles'}\n",
      "{'India': 'Delhi', 'China': 'Beijing', 'Japan': 'Tokyo', 'Qatar': 'Doha', 'France': 'Paris'}\n",
      "{'India': 'Delhi', 'China': 'Beijing', 'Japan': 'Tokyo', 'Qatar': 'Doha', 'France': 'Marseilles'}\n"
     ]
    }
   ],
   "source": [
    "# Q16.Create a dictionary ‘Country’ that maps the following countries to their capitals respectively:\n",
    "countries_capitals = {\n",
    "    \"India\": \"Delhi\",\n",
    "    \"China\": \"Beijing\",\n",
    "    \"Japan\": \"Tokyo\",\n",
    "    \"Qatar\": \"Doha\",\n",
    "    \"France\": \"Marseilles\"\n",
    "}\n",
    "\n",
    "# Print the dictionary\n",
    "print(countries_capitals)\n",
    "countries_capitals[\"France\"] = \"Paris\" # method 1\n",
    "print(countries_capitals)\n",
    "countries_capitals.update({\"France\": \"Marseilles\"}) # method 2\n",
    "print(countries_capitals) "
   ]
  },
  {
   "cell_type": "code",
   "execution_count": null,
   "id": "9000d0ef-a2d6-42f7-a010-b03635daf1db",
   "metadata": {},
   "outputs": [],
   "source": [
    "# Q17. Create the tuples given below\n",
    "# tuple_1 = (1,5,6,7,8)\n",
    "# tuple_2 = (8,9,4)\n",
    "# Identify which of the following code does not work on a tuple.\n",
    "tuple_1 = (1, 5, 6, 7, 8)\n",
    "tuple_2 = (8, 9, 4)\n",
    "\n",
    "# Print the tuples\n",
    "print(\"tuple_1:\", tuple_1)\n",
    "print(\"tuple_2:\", tuple_2)\n",
    "# Ans. D. tuple_1[3] = 45 Tuples are immutable"
   ]
  },
  {
   "cell_type": "code",
   "execution_count": null,
   "id": "2347d43f-6731-4bad-90a4-de7ef709782d",
   "metadata": {},
   "outputs": [],
   "source": [
    "# Q18. How many elements in the following data structure?\n",
    "# S = {1, 2, 3, 4, 4, 4, 4, 5, 6}\n",
    "# Ans. Number of Elements will be 6"
   ]
  },
  {
   "cell_type": "code",
   "execution_count": 19,
   "id": "d25500b2-48f5-40f3-8e86-b811bf82bddc",
   "metadata": {},
   "outputs": [
    {
     "name": "stdout",
     "output_type": "stream",
     "text": [
      "[[3, 4, 5], [5, 12, 13], [6, 8, 10], [8, 15, 17], [9, 12, 15], [12, 16, 20]]\n"
     ]
    }
   ],
   "source": [
    "#Q19. Write a function which finds all pythagorean triplets of triangles whose sides are no\n",
    "#     greater than a natural number N.\n",
    "def find_pythagorean_triplets(N):\n",
    "    triplets = []\n",
    "    for a in range(1, N + 1):\n",
    "        for b in range(a, N + 1):\n",
    "           for c in range(b, limit+1):\n",
    "               if a * a + b*b == c*c:\n",
    "                   triplets.append([a, b, c])\n",
    "    return triplets\n",
    "\n",
    "limit = 20\n",
    "ans = find_pythagorean_triplets(limit)\n",
    "print(ans)\n"
   ]
  },
  {
   "cell_type": "code",
   "execution_count": null,
   "id": "68a88e26-37fb-4170-8fa6-fdbebb63de21",
   "metadata": {},
   "outputs": [],
   "source": []
  }
 ],
 "metadata": {
  "kernelspec": {
   "display_name": "Python 3 (ipykernel)",
   "language": "python",
   "name": "python3"
  },
  "language_info": {
   "codemirror_mode": {
    "name": "ipython",
    "version": 3
   },
   "file_extension": ".py",
   "mimetype": "text/x-python",
   "name": "python",
   "nbconvert_exporter": "python",
   "pygments_lexer": "ipython3",
   "version": "3.12.7"
  }
 },
 "nbformat": 4,
 "nbformat_minor": 5
}
